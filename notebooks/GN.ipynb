{
 "cells": [
  {
   "cell_type": "code",
   "execution_count": 5,
   "metadata": {},
   "outputs": [
    {
     "name": "stderr",
     "output_type": "stream",
     "text": [
      "2024-04-29 20:23:06.659773: I external/local_tsl/tsl/cuda/cudart_stub.cc:32] Could not find cuda drivers on your machine, GPU will not be used.\n",
      "2024-04-29 20:23:06.665206: I external/local_tsl/tsl/cuda/cudart_stub.cc:32] Could not find cuda drivers on your machine, GPU will not be used.\n",
      "2024-04-29 20:23:06.717015: I tensorflow/core/platform/cpu_feature_guard.cc:210] This TensorFlow binary is optimized to use available CPU instructions in performance-critical operations.\n",
      "To enable the following instructions: AVX2 FMA, in other operations, rebuild TensorFlow with the appropriate compiler flags.\n",
      "2024-04-29 20:23:07.768040: W tensorflow/compiler/tf2tensorrt/utils/py_utils.cc:38] TF-TRT Warning: Could not find TensorRT\n"
     ]
    }
   ],
   "source": [
    "import numpy as np\n",
    "from matplotlib import pyplot as plt\n",
    "from numpy import linalg as la\n",
    "import tensorflow as tf"
   ]
  },
  {
   "cell_type": "markdown",
   "metadata": {},
   "source": [
    "## Generate datasets"
   ]
  },
  {
   "cell_type": "code",
   "execution_count": 6,
   "metadata": {},
   "outputs": [],
   "source": [
    "x_train = np.array([0, 0, 0, 0, 0, 0, 1, 1, 1, 1, 1, 2, 2, 2, 2, 2, 2, 3, 3, 3, 3, 3, 3,\n",
    "                    4, 4, 4, 4, 4, 4, 6, 6, 6, 6, 6, 6, 8, 8, 8, 8, 8, 8])\n",
    "y_train = np.array([0.169, 0.164, 0.210, 0.215, 0.183, 0.181, 0.188, 0.229,\n",
    "                    0.268, 0.202, 0.193, 0.262, 0.215, 0.285, 0.313, 0.222, 0.225,\n",
    "                    0.326, 0.283, 0.374, 0.406, 0.304, 0.284, 0.463, 0.456, 0.598, 0.618,\n",
    "                    0.475, 0.425, 0.554, 0.810, 1.011, 0.999, 0.751, 0.742, 1.273, 1.300,\n",
    "                    1.612, 1.588, 1.225, 1.208])"
   ]
  },
  {
   "cell_type": "markdown",
   "metadata": {},
   "source": [
    "## Defining Functions\n",
    "\n",
    "We fit a nonlinear model $y = f(x;\\beta) + \\epsilon$ to a given dataset below, where $f(x;\\beta) = \\beta_0\\cdot\\exp(x/\\beta_1)$."
   ]
  },
  {
   "cell_type": "code",
   "execution_count": 33,
   "metadata": {},
   "outputs": [],
   "source": [
    "def model(x, truth_beta):\n",
    "    return truth_beta[0]*np.exp(x/truth_beta[1])\n",
    "\n",
    "\n",
    "def Fval(x, y, beta):\n",
    "    return model(x, beta) - y\n",
    "\n",
    "\n",
    "def Jac(x, beta):\n",
    "    return np.array([np.exp(x/beta[1]), -(beta[0]/beta[1]**2)*np.exp(x/beta[1])*x])"
   ]
  },
  {
   "cell_type": "markdown",
   "metadata": {},
   "source": [
    "## Default Gauss-Newton Method"
   ]
  },
  {
   "cell_type": "code",
   "execution_count": 34,
   "metadata": {},
   "outputs": [
    {
     "name": "stdout",
     "output_type": "stream",
     "text": [
      "Iteration:  0 -- Error: 4.3734e+04\n",
      "Iteration:  1 -- Error: 1.3142e+03\n",
      "Iteration:  2 -- Error: 2.6061e+02\n",
      "Iteration:  3 -- Error: 5.1467e+01\n",
      "Iteration:  4 -- Error: 9.8034e+00\n",
      "Iteration:  5 -- Error: 9.5526e-01\n",
      "Iteration:  6 -- Error: 1.1868e-02\n",
      "Iteration:  7 -- Error: 1.4007e-06\n",
      ">>> Convergence achieved!\n",
      "\n",
      "Parameters: [0.16372089 3.76453933] \n",
      "Error:  1.400680826889285e-06 \n",
      "Number of Iterations:  7\n"
     ]
    },
    {
     "data": {
      "image/png": "[encoded data removed]",
      "text/plain": [
       "<Figure size 640x480 with 1 Axes>"
      ]
     },
     "metadata": {},
     "output_type": "display_data"
    }
   ],
   "source": [
    "# Default Gauss-Newton Method\n",
    "def GN(Fx, Jac, x, y, beta0, maxiter = 100, tol = 1e-3):\n",
    "    bet = beta0\n",
    "    err  = 0\n",
    "    for t in range(0, maxiter):\n",
    "        Ft  = Fx(x, y, bet)\n",
    "        Jt  = Jac(x, bet)\n",
    "        St  = la.pinv(Jt.dot(Jt.T))\n",
    "        yt  = Jt.dot(Ft).T\n",
    "        dt  = np.ravel(St.dot(yt))\n",
    "        bet = bet - dt\n",
    "        err = la.norm(yt)\n",
    "        print(\"Iteration: {0:2d}\".format(t), \"-- Error: {0:5.4e}\".format(err))\n",
    "        if err <= tol:\n",
    "            print(\">>> Convergence achieved!\")\n",
    "            break\n",
    "    return bet, err, t\n",
    "\n",
    "# We run it.\n",
    "beta0 = [1, 2]\n",
    "beta_best, err, n_it = GN(Fval, Jac, x_train, y_train, beta0, maxiter=1000)\n",
    "print(\"\\nParameters:\", beta_best, \"\\nError: \", err, \"\\nNumber of Iterations: \", n_it)\n",
    "\n",
    "# Plotting\n",
    "plt.plot(x_train, y_train, 'b*', label='data')\n",
    "plt.plot(x_train, model(x_train, beta_best), \"-r\", label=\"fitting curve\")\n",
    "plt.xlabel('x')\n",
    "plt.ylabel('y')\n",
    "plt.legend()\n",
    "plt.show()"
   ]
  },
  {
   "cell_type": "markdown",
   "metadata": {},
   "source": [
    "## AutoDiff Gauss-Newton Method"
   ]
  },
  {
   "cell_type": "code",
   "execution_count": 39,
   "metadata": {},
   "outputs": [
    {
     "name": "stdout",
     "output_type": "stream",
     "text": [
      "Iteration:  0 -- Error: 4.3734e+04\n",
      "Iteration:  1 -- Error: 1.3142e+03\n",
      "Iteration:  2 -- Error: 2.6061e+02\n",
      "Iteration:  3 -- Error: 5.1467e+01\n",
      "Iteration:  4 -- Error: 9.8034e+00\n",
      "Iteration:  5 -- Error: 9.5526e-01\n",
      "Iteration:  6 -- Error: 1.1868e-02\n",
      "Iteration:  7 -- Error: 1.4007e-06\n",
      ">>> Convergence achieved!\n",
      "\n",
      "Parameters: [0.16372089 3.76453933] \n",
      "Error:  1.4006808140952525e-06 \n",
      "Number of Iterations:  7\n"
     ]
    },
    {
     "data": {
      "image/png": "[encoded data removed]",
      "text/plain": [
       "<Figure size 640x480 with 1 Axes>"
      ]
     },
     "metadata": {},
     "output_type": "display_data"
    }
   ],
   "source": [
    "def tf_model(x, truth_beta):\n",
    "    return tf.multiply(truth_beta[0], tf.exp(tf.divide(x, truth_beta[1])))\n",
    "\n",
    "# Default Gauss-Newton Method\n",
    "def GN_Auto_Diff(Fx, tf_Fx, x, y, beta0, maxiter=100, tol=1e-3):\n",
    "    bet = beta0\n",
    "    err = 0\n",
    "    for t in range(0, maxiter):\n",
    "        Ft = Fx(x, y, bet)\n",
    "\n",
    "        # Compute value of Jacobian matrix using Auto Diff\n",
    "        tf_x = tf.constant(x, dtype=tf.float64)\n",
    "        tf_bet = tf.Variable(bet, dtype=tf.float64)\n",
    "        with tf.GradientTape() as tape:\n",
    "            J = tf_Fx(tf_x, tf_bet)\n",
    "        Jt = tape.jacobian(J, tf_bet).numpy().T\n",
    "        \n",
    "        St = la.pinv(Jt.dot(Jt.T))\n",
    "        yt = Jt.dot(Ft).T\n",
    "        dt = np.ravel(St.dot(yt))\n",
    "        bet = bet - dt\n",
    "        err = la.norm(yt)\n",
    "        print(\"Iteration: {0:2d}\".format(t), \"-- Error: {0:5.4e}\".format(err))\n",
    "        if err <= tol:\n",
    "            print(\">>> Convergence achieved!\")\n",
    "            break\n",
    "    return bet, err, t\n",
    "\n",
    "\n",
    "# Running\n",
    "beta0 = [1, 2]\n",
    "beta_best, err, n_it = GN_Auto_Diff(Fval, tf_model, x_train, y_train, beta0, maxiter=1000)\n",
    "print(\"\\nParameters:\", beta_best, \"\\nError: \", err, \"\\nNumber of Iterations: \", n_it)\n",
    "\n",
    "# Plotting\n",
    "plt.plot(x_train, y_train, 'b*', label='data')\n",
    "plt.plot(x_train, model(x_train, beta_best), \"-r\", label=\"fitting curve\")\n",
    "plt.xlabel('x')\n",
    "plt.ylabel('y')\n",
    "plt.legend()\n",
    "plt.show()"
   ]
  },
  {
   "cell_type": "markdown",
   "metadata": {},
   "source": [
    "## Damped Gauss-Newton Method"
   ]
  },
  {
   "cell_type": "code",
   "execution_count": null,
   "metadata": {},
   "outputs": [],
   "source": [
    "# Damped Gauss-Newton Method\n",
    "def GN_damped(Fx, Jac, x, y, beta0, stepsize=1, maxiter=100, tol=1e-3):\n",
    "    bet = beta0\n",
    "    err = 0\n",
    "    t = 0\n",
    "    while t < maxiter:\n",
    "        Ft = Fx(x, y, bet)\n",
    "        Jt = Jac(x, bet)\n",
    "        St = la.pinv(Jt.dot(Jt.T))\n",
    "        yt = Jt.dot(Ft).T\n",
    "        dt = np.ravel(St.dot(yt))\n",
    "        err = la.norm(yt)\n",
    "\n",
    "        # Add step size\n",
    "        bet = bet - stepsize * dt\n",
    "        \n",
    "        print(\"Iteration: {0:2d}\".format(t), \"-- Error: {0:5.4e}\".format(err))\n",
    "        if err <= tol:\n",
    "            print(\">>> Convergence achieved!\")\n",
    "            break\n",
    "        t += 1\n",
    "    return bet, err, t\n",
    "\n",
    "\n",
    "# We run it.\n",
    "beta0 = [1, 2]\n",
    "beta_best, err, n_it = GN_damped(\n",
    "    Fval, Jac, x_train, y_train, beta0=beta0, stepsize=0.1, maxiter=1000)\n",
    "print(\"\\nParameters:\", beta_best, \"\\nError: \",\n",
    "      err, \"\\nNumber of Iterations: \", n_it)\n",
    "\n",
    "# Plotting\n",
    "plt.plot(x_train, y_train, 'b*', label='data')\n",
    "plt.plot(x_train, model(x_train, beta_best), \"-r\", label=\"fitting curve\")\n",
    "plt.xlabel('x')\n",
    "plt.ylabel('y')\n",
    "plt.legend()\n",
    "plt.show()"
   ]
  },
  {
   "cell_type": "code",
   "execution_count": null,
   "metadata": {},
   "outputs": [],
   "source": []
  },
  {
   "cell_type": "code",
   "execution_count": null,
   "metadata": {},
   "outputs": [],
   "source": []
  }
 ],
 "metadata": {
  "kernelspec": {
   "display_name": "UNC",
   "language": "python",
   "name": "python3"
  },
  "language_info": {
   "codemirror_mode": {
    "name": "ipython",
    "version": 3
   },
   "file_extension": ".py",
   "mimetype": "text/x-python",
   "name": "python",
   "nbconvert_exporter": "python",
   "pygments_lexer": "ipython3",
   "version": "3.10.13"
  }
 },
 "nbformat": 4,
 "nbformat_minor": 2
}
