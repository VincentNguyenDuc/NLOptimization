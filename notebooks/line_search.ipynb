{
 "cells": [
  {
   "cell_type": "code",
   "execution_count": 24,
   "metadata": {},
   "outputs": [],
   "source": [
    "import numpy as np\n",
    "from matplotlib import pyplot as plt\n",
    "from numpy import linalg as la"
   ]
  },
  {
   "cell_type": "code",
   "execution_count": 25,
   "metadata": {},
   "outputs": [],
   "source": [
    "def model(x, truth_beta):\n",
    "    return truth_beta[0]*np.exp(x/truth_beta[1])\n",
    "\n",
    "\n",
    "def Fval(x, y, beta):\n",
    "    return model(x, beta) - y\n",
    "\n",
    "\n",
    "def Jac(x, beta):\n",
    "    return np.array([np.exp(x/beta[1]), -(beta[0]/beta[1]**2)*np.exp(x/beta[1])*x])"
   ]
  },
  {
   "cell_type": "code",
   "execution_count": 26,
   "metadata": {},
   "outputs": [],
   "source": [
    "beta_truth = [0.15, 3.75]\n",
    "x_train = np.linspace(0, 10, num=50)\n",
    "y_train = model(x_train, beta_truth) + np.random.normal(0, 0.2, size=len(x_train))"
   ]
  },
  {
   "cell_type": "code",
   "execution_count": 83,
   "metadata": {},
   "outputs": [
    {
     "name": "stdout",
     "output_type": "stream",
     "text": [
      "Iteration:  0 -- Error: 4.0220e+03\n",
      "Iteration:  1 -- Error: 4.7798e+01\n",
      "Iteration:  2 -- Error: 4.1926e+01\n",
      "Iteration:  3 -- Error: 2.0382e-06\n",
      "Iteration:  4 -- Error: 3.9787e-01\n",
      "Iteration:  5 -- Error: 2.3358e+01\n",
      "Iteration:  6 -- Error: 5.4693e+01\n",
      "Iteration:  7 -- Error: 8.4625e+01\n",
      "Iteration:  8 -- Error: 2.1196e+00\n",
      "Iteration:  9 -- Error: 1.2550e-02\n",
      "Iteration: 10 -- Error: 1.1246e-05\n",
      "Iteration: 11 -- Error: 3.7718e-07\n",
      ">>> Convergence achieved!\n",
      "\n",
      "Parameters: [0.141244   3.69904073] \n",
      "Error:  3.771755303063522e-07 \n",
      "Number of Iterations:  11\n"
     ]
    },
    {
     "data": {
      "image/png": "[encoded data removed]",
      "text/plain": [
       "<Figure size 640x480 with 1 Axes>"
      ]
     },
     "metadata": {},
     "output_type": "display_data"
    }
   ],
   "source": [
    "def armijo_line_search(Fx, x, y, Jt, beta, dt, stepsize=1, t=0.5, c=1e-4):\n",
    "    alpha_t = 1.0\n",
    "    Ft = Fx(x, y, beta)\n",
    "    while True:\n",
    "        next_beta = beta - alpha_t * stepsize * dt\n",
    "        next_Ft = Fx(x, y, next_beta)\n",
    "        # Armijo Rule\n",
    "        if la.norm(Ft) - la.norm(next_Ft) >= alpha_t * c * stepsize * la.norm(Jt.T.dot(-dt)) ** 2:\n",
    "            break\n",
    "        alpha_t *= t\n",
    "    return next_beta\n",
    "\n",
    "\n",
    "def GN_Armijo(Fx, Jac, x, y, beta0, stepsize=1, maxiter=100, tol=1e-6):\n",
    "    \"\"\"Gauss-Newton method with Armijo Linesearch\n",
    "\n",
    "    Args:\n",
    "        Fx: Objective function\n",
    "        Jac: Jacobian of Fx\n",
    "        x: x data\n",
    "        y: y data\n",
    "        beta0: initial beta parameter point\n",
    "        eta0: stepsize. Defaults to 1.\n",
    "        maxiter: maximum number of iterations. Defaults to 100.\n",
    "        tol: error tolerance. Defaults to 1e-3.\n",
    "\n",
    "    Returns:\n",
    "        beta: the approximation of parameters\n",
    "        err: the error\n",
    "        t: the last iteration\n",
    "    \"\"\"\n",
    "    beta = beta0\n",
    "    err = 0\n",
    "    for t in range(maxiter):\n",
    "        Ft = Fx(x, y, beta)\n",
    "        Jt = Jac(x, beta)\n",
    "        St = la.pinv(Jt.dot(Jt.T))\n",
    "        yt = Jt.dot(Ft).T\n",
    "        dt = np.ravel(St.dot(yt))\n",
    "        err = la.norm(yt)\n",
    "\n",
    "        # Perform Armijo Line-search to find the best next beta\n",
    "        beta = armijo_line_search(Fx, x, y, Jt, beta, dt, stepsize, t=0.9)\n",
    "\n",
    "        print(\"Iteration: {0:2d}\".format(t), \"-- Error: {0:5.4e}\".format(err))\n",
    "        if err <= tol:\n",
    "            print(\">>> Convergence achieved!\")\n",
    "            break\n",
    "    return beta, err, t\n",
    "\n",
    "\n",
    "# We run it.\n",
    "beta0 = [70, 70]\n",
    "beta_best, err, n_it = GN_Armijo(\n",
    "    Fval, Jac, x_train, y_train, beta0=beta0, maxiter=100)\n",
    "print(\"\\nParameters:\", beta_best, \"\\nError: \",\n",
    "      err, \"\\nNumber of Iterations: \", n_it)\n",
    "\n",
    "# Plotting\n",
    "plt.plot(x_train, y_train, 'b*', label='data')\n",
    "plt.plot(x_train, model(x_train, beta_best), \"-r\", label=\"fitting curve\")\n",
    "plt.xlabel('x')\n",
    "plt.ylabel('y')\n",
    "plt.legend()\n",
    "plt.show()"
   ]
  },
  {
   "cell_type": "code",
   "execution_count": null,
   "metadata": {},
   "outputs": [],
   "source": []
  }
 ],
 "metadata": {
  "kernelspec": {
   "display_name": "UNC",
   "language": "python",
   "name": "python3"
  },
  "language_info": {
   "codemirror_mode": {
    "name": "ipython",
    "version": 3
   },
   "file_extension": ".py",
   "mimetype": "text/x-python",
   "name": "python",
   "nbconvert_exporter": "python",
   "pygments_lexer": "ipython3",
   "version": "3.10.13"
  }
 },
 "nbformat": 4,
 "nbformat_minor": 2
}
