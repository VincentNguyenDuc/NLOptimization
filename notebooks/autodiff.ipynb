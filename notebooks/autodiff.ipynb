{
 "cells": [
  {
   "cell_type": "code",
   "execution_count": 1,
   "metadata": {},
   "outputs": [
    {
     "name": "stdout",
     "output_type": "stream",
     "text": [
      "[ 1.64872127 -0.41218032]\n"
     ]
    }
   ],
   "source": [
    "import numpy as np\n",
    "\n",
    "def model(x, truth_beta):\n",
    "    return truth_beta[0]*np.exp(x/truth_beta[1])\n",
    "\n",
    "def Fval(x, y, beta):\n",
    "    return model(x, beta) - y\n",
    "\n",
    "def Jac(x, beta):\n",
    "    return np.array([np.exp(x/beta[1]), -(beta[0]/beta[1]**2)*np.exp(x/beta[1])*x])\n",
    "\n",
    "print(Jac(1, [1, 2]))"
   ]
  },
  {
   "cell_type": "code",
   "execution_count": 29,
   "metadata": {},
   "outputs": [
    {
     "name": "stdout",
     "output_type": "stream",
     "text": [
      "[ 1.6487212 -0.4121803]\n",
      "[ 2.7182817 -1.3591409]\n"
     ]
    }
   ],
   "source": [
    "import tensorflow as tf\n",
    "\n",
    "def tf_model(x, truth_beta):\n",
    "    return tf.multiply(truth_beta[0], tf.exp(tf.divide(x, truth_beta[1])))\n",
    "\n",
    "# Define the scalar variables\n",
    "beta = tf.Variable([1.0, 2.0])\n",
    "x = tf.constant([1.0, 2.0])\n",
    "\n",
    "# Use tf.GradientTape to compute the Jacobian\n",
    "with tf.GradientTape() as tape:\n",
    "    y = tf_model(x, beta)\n",
    "\n",
    "Jacobian = tape.jacobian(y, beta)\n",
    "\n",
    "print(Jacobian[0].numpy())\n",
    "print(Jacobian[1].numpy())"
   ]
  }
 ],
 "metadata": {
  "kernelspec": {
   "display_name": "UNC",
   "language": "python",
   "name": "python3"
  },
  "language_info": {
   "codemirror_mode": {
    "name": "ipython",
    "version": 3
   },
   "file_extension": ".py",
   "mimetype": "text/x-python",
   "name": "python",
   "nbconvert_exporter": "python",
   "pygments_lexer": "ipython3",
   "version": "3.10.13"
  }
 },
 "nbformat": 4,
 "nbformat_minor": 2
}
