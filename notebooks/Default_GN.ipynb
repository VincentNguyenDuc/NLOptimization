{
 "cells": [
  {
   "cell_type": "code",
   "execution_count": 1,
   "metadata": {},
   "outputs": [],
   "source": [
    "import numpy as np\n",
    "from numpy import linalg as la\n",
    "from sklearn.linear_model import LinearRegression"
   ]
  },
  {
   "cell_type": "markdown",
   "metadata": {},
   "source": [
    "## Default Gauss-Newton Method"
   ]
  },
  {
   "cell_type": "code",
   "execution_count": 2,
   "metadata": {},
   "outputs": [],
   "source": [
    "# Default Gauss-Newton Method\n",
    "from numpy import linalg as la\n",
    "def GN(Fx, Jac, x, y, beta0, maxiter = 100, tol = 1e-3):\n",
    "    bet = beta0\n",
    "    err  = 0\n",
    "    for t in range(0, maxiter):\n",
    "        Ft  = Fx(x, y, bet)\n",
    "        Jt  = Jac(x, bet)\n",
    "        St  = la.pinv( Jt.dot(Jt.T) )\n",
    "        yt  = Jt.dot(Ft).T\n",
    "        dt  = np.ravel(St.dot(yt))\n",
    "        bet = bet - dt\n",
    "        err = la.norm(yt)\n",
    "        print(\"Iteration: {0:2d}\".format(t), \"-- Error: {0:5.4e}\".format(err))\n",
    "        if err <= tol:\n",
    "            print(\">>> Convergence achieved!\")\n",
    "            break\n",
    "    return bet, err, t"
   ]
  },
  {
   "cell_type": "markdown",
   "metadata": {},
   "source": [
    "## Default Gauss-Newton Method with sklearn"
   ]
  },
  {
   "cell_type": "code",
   "execution_count": 3,
   "metadata": {},
   "outputs": [],
   "source": [
    "# Default Gauss-Newton method here\n",
    "# But now we use sklearn to solve the linear least-squares problem\n",
    "def GN2(Fx, Jac, x, y, beta0, maxiter = 100, tol = 1e-3):\n",
    "    bet = beta0\n",
    "    lin_reg = LinearRegression(fit_intercept=False)\n",
    "    err  = 0\n",
    "    for t in range(0, maxiter):\n",
    "        Ft  = Fx(x, y, bet)\n",
    "        Jt  = Jac(x, bet)\n",
    "        yt  = Jt.dot(Ft).T\n",
    "        lin_reg.fit(Jt.T, -Ft)\n",
    "        dt  = lin_reg.coef_\n",
    "        bet = bet + dt\n",
    "        err = la.norm(yt)\n",
    "        print(\"Iteration: {0:2d}\".format(t), \"-- Error: {0:5.4e}\".format(err))\n",
    "        if err <= tol:\n",
    "            print(\">>> Convergence achieved!\")\n",
    "            break\n",
    "    return bet, err, t"
   ]
  }
 ],
 "metadata": {
  "kernelspec": {
   "display_name": "UNC",
   "language": "python",
   "name": "python3"
  },
  "language_info": {
   "codemirror_mode": {
    "name": "ipython",
    "version": 3
   },
   "file_extension": ".py",
   "mimetype": "text/x-python",
   "name": "python",
   "nbconvert_exporter": "python",
   "pygments_lexer": "ipython3",
   "version": "3.10.13"
  }
 },
 "nbformat": 4,
 "nbformat_minor": 2
}
